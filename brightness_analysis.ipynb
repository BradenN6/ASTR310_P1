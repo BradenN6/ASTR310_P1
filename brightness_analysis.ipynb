{
 "cells": [
  {
   "cell_type": "markdown",
   "metadata": {},
   "source": [
    "# ASTR310 Project 1: Investigating HII Regions (Especially NGC604) in M33 through Halpha and OIII Filters with the 7-in. Refractor "
   ]
  },
  {
   "cell_type": "code",
   "execution_count": null,
   "metadata": {},
   "outputs": [],
   "source": [
    "# Import modules\n",
    "import calibration\n",
    "import photometry\n",
    "import stacking\n",
    "import align\n",
    "import dataReduce\n",
    "from align import dispFITS\n",
    "import calibration as calib\n",
    "from aperE import photometry\n",
    "import size\n",
    "\n",
    "# Additional Imports\n",
    "from astropy.io import fits\n",
    "import numpy as np\n",
    "import matplotlib.pyplot as plt\n",
    "import scipy.ndimage as ndimage"
   ]
  }
 ],
 "metadata": {
  "kernelspec": {
   "display_name": "base",
   "language": "python",
   "name": "python3"
  },
  "language_info": {
   "name": "python",
   "version": "3.10.14"
  }
 },
 "nbformat": 4,
 "nbformat_minor": 2
}
