{
 "cells": [
  {
   "cell_type": "markdown",
   "metadata": {},
   "source": [
    "Testing"
   ]
  },
  {
   "cell_type": "code",
   "execution_count": 2,
   "metadata": {},
   "outputs": [],
   "source": [
    "# Import modules\n",
    "import calibration\n",
    "import photometry\n",
    "import stacking\n",
    "import align\n",
    "import dataReduce\n",
    "from align import dispFITS\n",
    "import calibration as calib\n",
    "import aperE\n",
    "import size\n",
    "\n",
    "# Additional Imports\n",
    "from astropy.io import fits\n",
    "import numpy as np\n",
    "import matplotlib.pyplot as plt\n",
    "import scipy.ndimage as ndimage\n",
    "import pandas as pd"
   ]
  },
  {
   "cell_type": "code",
   "execution_count": 3,
   "metadata": {},
   "outputs": [],
   "source": [
    "df = pd.read_csv('photometry.csv')"
   ]
  },
  {
   "cell_type": "code",
   "execution_count": 5,
   "metadata": {},
   "outputs": [
    {
     "data": {
      "text/html": [
       "<div>\n",
       "<style scoped>\n",
       "    .dataframe tbody tr th:only-of-type {\n",
       "        vertical-align: middle;\n",
       "    }\n",
       "\n",
       "    .dataframe tbody tr th {\n",
       "        vertical-align: top;\n",
       "    }\n",
       "\n",
       "    .dataframe thead th {\n",
       "        text-align: right;\n",
       "    }\n",
       "</style>\n",
       "<table border=\"1\" class=\"dataframe\">\n",
       "  <thead>\n",
       "    <tr style=\"text-align: right;\">\n",
       "      <th></th>\n",
       "      <th>X</th>\n",
       "      <th>Y</th>\n",
       "      <th>rX</th>\n",
       "      <th>rY</th>\n",
       "      <th>e</th>\n",
       "      <th>s_e</th>\n",
       "    </tr>\n",
       "  </thead>\n",
       "  <tbody>\n",
       "    <tr>\n",
       "      <th>0</th>\n",
       "      <td>1406.0</td>\n",
       "      <td>570.0</td>\n",
       "      <td>39</td>\n",
       "      <td>47</td>\n",
       "      <td>2.528310e+06</td>\n",
       "      <td>6799.061694</td>\n",
       "    </tr>\n",
       "    <tr>\n",
       "      <th>1</th>\n",
       "      <td>509.0</td>\n",
       "      <td>198.0</td>\n",
       "      <td>28</td>\n",
       "      <td>25</td>\n",
       "      <td>3.952561e+05</td>\n",
       "      <td>4098.599342</td>\n",
       "    </tr>\n",
       "    <tr>\n",
       "      <th>2</th>\n",
       "      <td>1506.0</td>\n",
       "      <td>201.0</td>\n",
       "      <td>10</td>\n",
       "      <td>14</td>\n",
       "      <td>4.606809e+04</td>\n",
       "      <td>1754.098776</td>\n",
       "    </tr>\n",
       "    <tr>\n",
       "      <th>3</th>\n",
       "      <td>959.0</td>\n",
       "      <td>887.0</td>\n",
       "      <td>15</td>\n",
       "      <td>12</td>\n",
       "      <td>7.232805e+04</td>\n",
       "      <td>2027.521311</td>\n",
       "    </tr>\n",
       "    <tr>\n",
       "      <th>4</th>\n",
       "      <td>780.0</td>\n",
       "      <td>1251.0</td>\n",
       "      <td>15</td>\n",
       "      <td>16</td>\n",
       "      <td>8.819627e+04</td>\n",
       "      <td>2342.039607</td>\n",
       "    </tr>\n",
       "    <tr>\n",
       "      <th>5</th>\n",
       "      <td>1896.0</td>\n",
       "      <td>151.0</td>\n",
       "      <td>3</td>\n",
       "      <td>3</td>\n",
       "      <td>1.458598e+03</td>\n",
       "      <td>463.647591</td>\n",
       "    </tr>\n",
       "    <tr>\n",
       "      <th>6</th>\n",
       "      <td>1408.0</td>\n",
       "      <td>572.0</td>\n",
       "      <td>39</td>\n",
       "      <td>86</td>\n",
       "      <td>1.458598e+03</td>\n",
       "      <td>463.647591</td>\n",
       "    </tr>\n",
       "    <tr>\n",
       "      <th>7</th>\n",
       "      <td>509.0</td>\n",
       "      <td>198.0</td>\n",
       "      <td>28</td>\n",
       "      <td>50</td>\n",
       "      <td>1.458598e+03</td>\n",
       "      <td>463.647591</td>\n",
       "    </tr>\n",
       "    <tr>\n",
       "      <th>8</th>\n",
       "      <td>1508.0</td>\n",
       "      <td>190.0</td>\n",
       "      <td>10</td>\n",
       "      <td>37</td>\n",
       "      <td>1.458598e+03</td>\n",
       "      <td>463.647591</td>\n",
       "    </tr>\n",
       "    <tr>\n",
       "      <th>9</th>\n",
       "      <td>960.0</td>\n",
       "      <td>888.0</td>\n",
       "      <td>15</td>\n",
       "      <td>13</td>\n",
       "      <td>1.458598e+03</td>\n",
       "      <td>463.647591</td>\n",
       "    </tr>\n",
       "    <tr>\n",
       "      <th>10</th>\n",
       "      <td>786.0</td>\n",
       "      <td>1255.0</td>\n",
       "      <td>15</td>\n",
       "      <td>3</td>\n",
       "      <td>1.458598e+03</td>\n",
       "      <td>463.647591</td>\n",
       "    </tr>\n",
       "    <tr>\n",
       "      <th>11</th>\n",
       "      <td>1901.0</td>\n",
       "      <td>142.0</td>\n",
       "      <td>3</td>\n",
       "      <td>13</td>\n",
       "      <td>1.458598e+03</td>\n",
       "      <td>463.647591</td>\n",
       "    </tr>\n",
       "  </tbody>\n",
       "</table>\n",
       "</div>"
      ],
      "text/plain": [
       "         X       Y  rX  rY             e          s_e\n",
       "0   1406.0   570.0  39  47  2.528310e+06  6799.061694\n",
       "1    509.0   198.0  28  25  3.952561e+05  4098.599342\n",
       "2   1506.0   201.0  10  14  4.606809e+04  1754.098776\n",
       "3    959.0   887.0  15  12  7.232805e+04  2027.521311\n",
       "4    780.0  1251.0  15  16  8.819627e+04  2342.039607\n",
       "5   1896.0   151.0   3   3  1.458598e+03   463.647591\n",
       "6   1408.0   572.0  39  86  1.458598e+03   463.647591\n",
       "7    509.0   198.0  28  50  1.458598e+03   463.647591\n",
       "8   1508.0   190.0  10  37  1.458598e+03   463.647591\n",
       "9    960.0   888.0  15  13  1.458598e+03   463.647591\n",
       "10   786.0  1255.0  15   3  1.458598e+03   463.647591\n",
       "11  1901.0   142.0   3  13  1.458598e+03   463.647591"
      ]
     },
     "execution_count": 5,
     "metadata": {},
     "output_type": "execute_result"
    }
   ],
   "source": [
    "df.head(15)"
   ]
  },
  {
   "cell_type": "code",
   "execution_count": 4,
   "metadata": {},
   "outputs": [
    {
     "name": "stdout",
     "output_type": "stream",
     "text": [
      "[3777400.6668007504, 579903.0877546992, 61538.5556850154, 96794.02545703015, 122496.76785383027, 27172.76869034148, 21418.535320622108, 21418.535320622108, 21418.535320622108, 21418.535320622108, 21418.535320622108, 21418.535320622108]\n",
      "[10411.865575770196, 5890.134156571267, 2394.524612577699, 2672.75747151406, 3161.6356959754485, 1937.2415681262373, 1527.0021772289165, 1527.0021772289165, 1527.0021772289165, 1527.0021772289165, 1527.0021772289165, 1527.0021772289165]\n"
     ]
    }
   ],
   "source": [
    "x = np.array(df['X'])\n",
    "y = np.array(df['Y'])\n",
    "rX = np.array(df['rX'])\n",
    "rY = np.array(df['rY'])\n",
    "flux = np.array(df['e'])\n",
    "flux_err = np.array(df['s_e'])\n",
    "\n",
    "rX = np.array([45, 27, 9, 14, 14, 7,\n",
    "               60, 51, 22, 15, 20, 15])\n",
    "rY = np.array([43, 24, 13, 10, 14, 10,\n",
    "               90, 47, 38, 12, 16, 13])\n",
    "\n",
    "# Quantum Efficiencies\n",
    "qe_Ha = 0.85\n",
    "s_qe_Ha = 5/3\n",
    "qe_oiii = 0.67\n",
    "s_qe_oiii = 5/3\n",
    "\n",
    "# The first 6 values are in OIII, the last 6 in Ha\n",
    "# Divide by quantum efficiency at Ha and OIII wavelengths\n",
    "# to get photon fluxes\n",
    "flux_ph = []\n",
    "flux_err_ph = []\n",
    "\n",
    "for i in range(len(flux)):\n",
    "    if i < 6:\n",
    "        flux_ph.append(flux[i]/qe_oiii)\n",
    "        flux_err_ph.append(flux_err[i]/qe_oiii)\n",
    "    else:\n",
    "        flux_ph.append(flux[i]/qe_Ha)\n",
    "        flux_err_ph.append(flux_err[i]/qe_Ha)\n",
    "\n",
    "print(flux_ph)\n",
    "print(flux_err_ph)\n"
   ]
  },
  {
   "cell_type": "code",
   "execution_count": 5,
   "metadata": {},
   "outputs": [
    {
     "name": "stdout",
     "output_type": "stream",
     "text": [
      "[ 6078.9817847   2035.75203953   367.56634047   439.8229715\n",
      "   615.7521601    219.91148575 16964.60032938  7530.39759065\n",
      "  2626.3714584    565.48667765  1005.30964915   612.61056745]\n",
      "[2.79069767 3.69907407 7.14529915 1.28571429 1.63265306 2.78571429]\n",
      "[ 58.66119902  34.04680656  14.9018824   16.21500112  18.66010834\n",
      "  11.50440763 101.94456059  65.3647592   41.38325453  18.10440726\n",
      "  24.13920968  18.70765009]\n",
      "[0.03172454 0.06970093 0.31079446 0.06277899 0.06312542 0.16874346]\n"
     ]
    }
   ],
   "source": [
    "A = np.pi*rX*rY\n",
    "err_A = A*np.sqrt((0.3/rX)**2 + (0.3/rY)**2)\n",
    "print(A)\n",
    "\n",
    "A_o = np.array(A[:6])\n",
    "#flux_err_ph_o = np.array(flux_err_ph[:6])\n",
    "A_ha = np.array(A[6:])\n",
    "#flux_err_ph_ha = np.array(flux_err_ph[6:])\n",
    "err_A_ha = np.array(err_A[6:])\n",
    "err_A_o = np.array(err_A[:6])\n",
    "phi_A = A_ha/A_o\n",
    "err_phi_A = phi_A*np.sqrt((err_A_o/A_o)**2 + (err_A_ha/A_ha)**2)\n",
    "print(phi_A)\n",
    "print(err_A)\n",
    "print(err_phi_A)"
   ]
  },
  {
   "cell_type": "code",
   "execution_count": 6,
   "metadata": {},
   "outputs": [
    {
     "name": "stdout",
     "output_type": "stream",
     "text": [
      "3.2231920877408142\n"
     ]
    }
   ],
   "source": [
    "avg_phi_A = np.average(phi_A)\n",
    "#err_phi_A = np.std(phi_A)\n",
    "print(avg_phi_A)\n",
    "#print(err_phi_A)"
   ]
  },
  {
   "cell_type": "code",
   "execution_count": 7,
   "metadata": {},
   "outputs": [
    {
     "name": "stdout",
     "output_type": "stream",
     "text": [
      "0.06210614488329605\n"
     ]
    }
   ],
   "source": [
    "err_phi_A_avg = 1/len(phi_A)*np.sqrt(np.sum(err_phi_A**2))\n",
    "print(err_phi_A_avg)"
   ]
  },
  {
   "cell_type": "code",
   "execution_count": 8,
   "metadata": {},
   "outputs": [],
   "source": [
    "flux_ph = [3777400.6668007504,579903.0877546992,61538.5556850154,\n",
    "           96794.02545703015,122496.76785383027,27172.76869034148,\n",
    "           13214808.347748976,3761566.502401952,500522.6281330024,\n",
    "           118320.00290572096,120993.99365846878,112986.3149224409]\n",
    "\n",
    "flux_err_ph = [113237.91379370152,18285.198198367103,3017.9817024727377,\n",
    "               3936.00228687029,4833.92279933649,2100.198226496646,\n",
    "               500702.6487489192,143046.29227412748,19786.695077205055,\n",
    "               5058.338826643179,5499.057158549219,4963.432759348813]\n",
    "\n",
    "flux_ph_o = np.array(flux_ph[:6])\n",
    "flux_err_ph_o = np.array(flux_err_ph[:6])\n",
    "flux_ph_ha = np.array(flux_ph[6:])\n",
    "flux_err_ph_ha = np.array(flux_err_ph[6:])"
   ]
  },
  {
   "cell_type": "code",
   "execution_count": 9,
   "metadata": {},
   "outputs": [
    {
     "name": "stdout",
     "output_type": "stream",
     "text": [
      "[3.49838673 6.48654332 8.13348026 1.22238953 0.98773213 4.15807149]\n",
      "[0.1690224  0.32043732 0.5123392  0.07212319 0.05945157 0.36966239]\n"
     ]
    }
   ],
   "source": [
    "phi_F = flux_ph_ha/flux_ph_o\n",
    "phi_err_F = phi_F*np.sqrt((flux_err_ph_ha/flux_ph_ha)**2 + (flux_err_ph_o/flux_ph_o)**2)\n",
    "print(phi_F)\n",
    "print(phi_err_F)"
   ]
  },
  {
   "cell_type": "code",
   "execution_count": 10,
   "metadata": {},
   "outputs": [
    {
     "name": "stdout",
     "output_type": "stream",
     "text": [
      "0.12237540440856745\n",
      "4.0811005775732\n"
     ]
    }
   ],
   "source": [
    "avg_phi_F = np.average(phi_F)\n",
    "#err_phi_F = np.std(phi_F)\n",
    "err_phi_F_avg = 1/len(phi_F)*np.sqrt(np.sum(phi_err_F**2))\n",
    "print(err_phi_F_avg)\n",
    "print(avg_phi_F)\n"
   ]
  }
 ],
 "metadata": {
  "kernelspec": {
   "display_name": "base",
   "language": "python",
   "name": "python3"
  },
  "language_info": {
   "codemirror_mode": {
    "name": "ipython",
    "version": 3
   },
   "file_extension": ".py",
   "mimetype": "text/x-python",
   "name": "python",
   "nbconvert_exporter": "python",
   "pygments_lexer": "ipython3",
   "version": "3.10.14"
  }
 },
 "nbformat": 4,
 "nbformat_minor": 2
}
