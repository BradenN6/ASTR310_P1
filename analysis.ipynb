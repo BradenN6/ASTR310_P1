{
 "cells": [
  {
   "cell_type": "markdown",
   "metadata": {},
   "source": [
    "# ASTR310 Project 1: Investigating HII Regions (Especially NGC604) in M33 through Halpha and OIII Filters with the 7-in. Refractor "
   ]
  },
  {
   "cell_type": "code",
   "execution_count": null,
   "metadata": {},
   "outputs": [],
   "source": [
    "# Import modules\n",
    "import calibration\n",
    "import photometry\n",
    "import stacking\n",
    "\n",
    "# Additional Imports\n"
   ]
  }
 ],
 "metadata": {
  "kernelspec": {
   "display_name": "base",
   "language": "python",
   "name": "python3"
  },
  "language_info": {
   "name": "python",
   "version": "3.10.14"
  }
 },
 "nbformat": 4,
 "nbformat_minor": 2
}
